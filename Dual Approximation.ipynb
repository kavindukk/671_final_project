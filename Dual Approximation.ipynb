{
 "cells": [
  {
   "cell_type": "markdown",
   "metadata": {},
   "source": [
    "#Dual Approximation"
   ]
  },
  {
   "cell_type": "markdown",
   "metadata": {},
   "source": [
    "# Dual Approximation"
   ]
  },
  {
   "cell_type": "markdown",
   "metadata": {},
   "source": [
    "Assume that you are the project manger of a software development project, which has been estimeted for \\\\$40,000 salary + operational cost and you are going to come up with a team of 12 which consisists of interns, engineers, senior engineers and team leaders. Project has been budgeted for 1000 engineering hours and you can assume that as a thumb rule, an intern would take 1h 15min for a work completed by and engineer and senior engineer, team leader would take 45 and 30 mins respectively. So, the operational cost of the project is propotional to the norm of the group. It is expected to pay \\\\$25, \\\\$35, \\\\$45, \\\\$55 per hour for intern, engineer, senior engineer and team leader respectively. using dual approximation come up with a suitable team structure to minimize the operational cost of the project."
   ]
  },
  {
   "cell_type": "markdown",
   "metadata": {},
   "source": [
    "### solution"
   ]
  },
  {
   "cell_type": "markdown",
   "metadata": {},
   "source": [
    "According to the description, company could pay $$ \\frac{$40,000}{1000} = $40 $$ per engineering hour."
   ]
  },
  {
   "cell_type": "markdown",
   "metadata": {},
   "source": [
    "Lets, assume that the number of interns, engineers, senior engineers and team leaders are x1, x2, x3, x4 respectively.  "
   ]
  },
  {
   "cell_type": "markdown",
   "metadata": {},
   "source": [
    "As per the description, completed project hours per hour would be 1/1.25 = 0.8, 1/1 = 1, 1/0.75 = 4/3 and 1/0.5 = 2 for intern, engineer, senior engineer and team leader respectively."
   ]
  },
  {
   "cell_type": "markdown",
   "metadata": {},
   "source": [
    "So, the number of project hours completed by the team per hour would be, $$ x1\\times 0.8 + x2\\times1 + x3\\times\\frac{4}{3} + x4\\times2$$"
   ]
  },
  {
   "cell_type": "code",
   "execution_count": null,
   "metadata": {},
   "outputs": [],
   "source": []
  },
  {
   "cell_type": "code",
   "execution_count": null,
   "metadata": {},
   "outputs": [],
   "source": []
  },
  {
   "cell_type": "code",
   "execution_count": null,
   "metadata": {},
   "outputs": [],
   "source": []
  },
  {
   "cell_type": "code",
   "execution_count": null,
   "metadata": {},
   "outputs": [],
   "source": []
  }
 ],
 "metadata": {
  "kernelspec": {
   "display_name": "Python 3",
   "language": "python",
   "name": "python3"
  },
  "language_info": {
   "codemirror_mode": {
    "name": "ipython",
    "version": 3
   },
   "file_extension": ".py",
   "mimetype": "text/x-python",
   "name": "python",
   "nbconvert_exporter": "python",
   "pygments_lexer": "ipython3",
   "version": "3.8.5"
  }
 },
 "nbformat": 4,
 "nbformat_minor": 4
}
